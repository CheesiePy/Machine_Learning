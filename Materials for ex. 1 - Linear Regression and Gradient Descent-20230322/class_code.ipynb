{
 "cells": [
  {
   "cell_type": "code",
   "execution_count": 32,
   "metadata": {},
   "outputs": [
    {
     "data": {
      "image/png": "[encoded data removed]",
      "text/plain": [
       "<Figure size 640x480 with 1 Axes>"
      ]
     },
     "metadata": {},
     "output_type": "display_data"
    },
    {
     "name": "stdout",
     "output_type": "stream",
     "text": [
      "J= [[134.21035714]]\n"
     ]
    },
    {
     "ename": "ValueError",
     "evalue": "shapes (2,) and (1,) not aligned: 2 (dim 0) != 1 (dim 0)",
     "output_type": "error",
     "traceback": [
      "\u001b[0;31m---------------------------------------------------------------------------\u001b[0m",
      "\u001b[0;31mValueError\u001b[0m                                Traceback (most recent call last)",
      "Cell \u001b[0;32mIn[32], line 61\u001b[0m\n\u001b[1;32m     58\u001b[0m alpha \u001b[39m=\u001b[39m \u001b[39m0.01\u001b[39m\n\u001b[1;32m     59\u001b[0m num_iters \u001b[39m=\u001b[39m \u001b[39m180\u001b[39m\n\u001b[0;32m---> 61\u001b[0m theta, J_iter \u001b[39m=\u001b[39m gradiant_decend_online(X, y, theta, alpha, num_iters)\n",
      "Cell \u001b[0;32mIn[32], line 24\u001b[0m, in \u001b[0;36mgradiant_decend_online\u001b[0;34m(X, y, theta, alpha, num_iters)\u001b[0m\n\u001b[1;32m     22\u001b[0m x_i \u001b[39m=\u001b[39m X[rank_index[i],:]\n\u001b[1;32m     23\u001b[0m y_i \u001b[39m=\u001b[39m y[rank_index[i]]\n\u001b[0;32m---> 24\u001b[0m theta \u001b[39m=\u001b[39m theta \u001b[39m-\u001b[39m alpha \u001b[39m*\u001b[39m (\u001b[39m1\u001b[39m\u001b[39m/\u001b[39mm) \u001b[39m*\u001b[39m np\u001b[39m.\u001b[39;49mdot(x_i\u001b[39m.\u001b[39;49mT, np\u001b[39m.\u001b[39;49mdot(x_i, theta) \u001b[39m-\u001b[39;49m y_i)\n\u001b[1;32m     25\u001b[0m J \u001b[39m=\u001b[39m compute_cost(x_i, y_i, theta)\n\u001b[1;32m     26\u001b[0m J_iter[k] \u001b[39m=\u001b[39m J\n",
      "File \u001b[0;32m<__array_function__ internals>:180\u001b[0m, in \u001b[0;36mdot\u001b[0;34m(*args, **kwargs)\u001b[0m\n",
      "\u001b[0;31mValueError\u001b[0m: shapes (2,) and (1,) not aligned: 2 (dim 0) != 1 (dim 0)"
     ]
    }
   ],
   "source": [
    "import numpy as np\n",
    "import matplotlib.pyplot as plt\n",
    "\n",
    "\n",
    "def compute_cost(X, y, theta):\n",
    "    \"\"\"\n",
    "\n",
    "    \"\"\"\n",
    "    m = y.shape[0]\n",
    "    z = np.dot(X, theta) - y\n",
    "    J = 1/(2*m) * np.dot(z.T, z)\n",
    "    return J\n",
    "\n",
    "\n",
    "def gradiant_decend_online(X, y, theta, alpha, num_iters):\n",
    "    m = y.shape[0]\n",
    "    k = 0\n",
    "    J_iter = np.zeros((num_iters*m))\n",
    "    for j in range(num_iters):\n",
    "        rank_index = np.random.permutation(m)\n",
    "        for i in range(m):\n",
    "            x_i = X[rank_index[i],:]\n",
    "            y_i = y[rank_index[i]]\n",
    "            theta = theta - alpha * (np.dot(x_i, theta.T) - y_i) * x_i.T \n",
    "            J = compute_cost(x_i, y_i, theta)\n",
    "            J_iter[k] = J\n",
    "            k += 1\n",
    "    return theta, J_iter\n",
    "\n",
    "\n",
    "\n",
    "# load 'Cricket.npz`\n",
    "\n",
    "data = np.load('Cricket.npz') # load the data\n",
    "\n",
    "yx = data['arr_0'] \n",
    "\n",
    "yx.shape\n",
    "\n",
    "x = yx[:,1]\n",
    "y = yx[:,0]\n",
    "m = y.shape[0]\n",
    "plt.plot(x,y,'ro')\n",
    "plt.grid(axis='both')\n",
    "plt.show()\n",
    "\n",
    "x = x.reshape(x.shape[0], 1)\n",
    "y = y.reshape(y.shape[0], 1)\n",
    "ones_vector = np.ones((m, 1))\n",
    "\n",
    "X = np.concatenate((ones_vector, x), axis=1) # add a column of ones to x (intercept)\n",
    "\n",
    "theta = np.zeros((X.shape[1], 1)) # initialize fitting parameters (theta)\n",
    "\n",
    "J = compute_cost(X, y, theta) # compute initial cost (J)\n",
    "\n",
    "print('J=',J)\n",
    "alpha = 0.01\n",
    "num_iters = 180\n",
    "\n",
    "theta, J_iter = gradiant_decend_online(X, y, theta, alpha, num_iters)\n"
   ]
  }
 ],
 "metadata": {
  "kernelspec": {
   "display_name": "Python 3",
   "language": "python",
   "name": "python3"
  },
  "language_info": {
   "codemirror_mode": {
    "name": "ipython",
    "version": 3
   },
   "file_extension": ".py",
   "mimetype": "text/x-python",
   "name": "python",
   "nbconvert_exporter": "python",
   "pygments_lexer": "ipython3",
   "version": "3.11.1"
  },
  "orig_nbformat": 4,
  "vscode": {
   "interpreter": {
    "hash": "e7370f93d1d0cde622a1f8e1c04877d8463912d04d973331ad4851f04de6915a"
   }
  }
 },
 "nbformat": 4,
 "nbformat_minor": 2
}
