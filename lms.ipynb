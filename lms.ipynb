{
 "cells": [
  {
   "attachments": {},
   "cell_type": "markdown",
   "metadata": {},
   "source": [
    "The Least Mean Square (LMS) algorithm is a widely used adaptive algorithm used in signal processing and machine learning applications. Here's an implementation of the LMS algorithm in Python:"
   ]
  },
  {
   "cell_type": "code",
   "execution_count": null,
   "metadata": {},
   "outputs": [],
   "source": [
    "import numpy as np\n",
    "\n",
    "def lms(x, d, mu, M):\n",
    "    \"\"\"\n",
    "    Least Mean Square (LMS) algorithm implementation\n",
    "    \n",
    "    Parameters:\n",
    "        x (ndarray): Input signal\n",
    "        d (ndarray): Desired signal\n",
    "        mu (float): Step size parameter\n",
    "        M (int): Number of filter taps\n",
    "        \n",
    "    Returns:\n",
    "        w (ndarray): Estimated filter coefficients\n",
    "        y (ndarray): Output signal\n",
    "        e (ndarray): Error signal\n",
    "    \"\"\"\n",
    "    # Initialize filter coefficients\n",
    "    w = np.zeros(M)\n",
    "    \n",
    "    # Initialize output and error signals\n",
    "    y = np.zeros_like(d)\n",
    "    e = np.zeros_like(d)\n",
    "    \n",
    "    # Apply LMS algorithm\n",
    "    for n in range(M, len(x)):\n",
    "        # Extract slice of input signal\n",
    "        x_slice = x[n-M:n]\n",
    "        \n",
    "        # Compute filter output and error\n",
    "        y[n] = np.dot(w, x_slice)\n",
    "        e[n] = d[n] - y[n]\n",
    "        \n",
    "        # Update filter coefficients\n",
    "        w += mu * e[n] * x_slice\n",
    "        \n",
    "    return w, y, e\n"
   ]
  },
  {
   "cell_type": "markdown",
   "metadata": {},
   "source": []
  },
  {
   "attachments": {},
   "cell_type": "markdown",
   "metadata": {},
   "source": [
    "Here's an example usage of the function:\n"
   ]
  },
  {
   "cell_type": "code",
   "execution_count": null,
   "metadata": {},
   "outputs": [],
   "source": [
    "# Generate noisy sinusoidal signal\n",
    "t = np.arange(0, 10, 0.01)\n",
    "x = np.sin(2*np.pi*0.5*t) + 0.5*np.sin(2*np.pi*2.5*t) + \\\n",
    "    0.2*np.random.randn(len(t))\n",
    "\n",
    "# Define desired signal as delayed version of input signal\n",
    "d = np.roll(x, -10)\n",
    "\n",
    "# Apply LMS algorithm\n",
    "w, y, e = lms(x, d, mu=0.1, M=10)\n",
    "\n",
    "# Plot input, desired, and output signals\n",
    "import matplotlib.pyplot as plt\n",
    "fig, ax = plt.subplots()\n",
    "ax.plot(t, x, label='Input')\n",
    "ax.plot(t, d, label='Desired')\n",
    "ax.plot(t, y, label='Output')\n",
    "ax.set_xlabel('Time')\n",
    "ax.set_ylabel('Amplitude')\n",
    "ax.legend()\n",
    "plt.show()\n"
   ]
  },
  {
   "attachments": {},
   "cell_type": "markdown",
   "metadata": {},
   "source": [
    "This code generates a noisy sinusoidal input signal, defines a desired signal as a delayed version of the input signal, and applies the LMS algorithm to estimate a filter that can produce the desired signal from the input signal. Finally, it plots the input, desired, and output signals\n",
    "\n"
   ]
  }
 ],
 "metadata": {
  "kernelspec": {
   "display_name": "Python 3",
   "language": "python",
   "name": "python3"
  },
  "language_info": {
   "codemirror_mode": {
    "name": "ipython",
    "version": 3
   },
   "file_extension": ".py",
   "mimetype": "text/x-python",
   "name": "python",
   "nbconvert_exporter": "python",
   "pygments_lexer": "ipython3",
   "version": "3.11.1"
  },
  "orig_nbformat": 4,
  "vscode": {
   "interpreter": {
    "hash": "e7370f93d1d0cde622a1f8e1c04877d8463912d04d973331ad4851f04de6915a"
   }
  }
 },
 "nbformat": 4,
 "nbformat_minor": 2
}
